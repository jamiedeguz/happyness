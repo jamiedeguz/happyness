{
 "cells": [
  {
   "cell_type": "code",
   "execution_count": 3,
   "metadata": {},
   "outputs": [],
   "source": [
    "import pandas as pd"
   ]
  },
  {
   "cell_type": "code",
   "execution_count": null,
   "metadata": {},
   "outputs": [],
   "source": []
  },
  {
   "cell_type": "code",
   "execution_count": 54,
   "metadata": {},
   "outputs": [
    {
     "data": {
      "text/plain": [
       "'<table border=\"1\" class=\"dataframe\">  <thead>    <tr style=\"text-align: right;\">      <th>Highest Ranking</th>      <th>Highest Ranking City</th>      <th>Lowest Ranking</th>      <th>Lowest Ranking City</th>    </tr>  </thead>  <tbody>    <tr>      <td>100</td>      <td>New York, NY</td>      <td>1</td>      <td>El Paso, TX</td>    </tr>    <tr>      <td>99</td>      <td>San Francisco, CA</td>      <td>2</td>      <td>Henderson, NV</td>    </tr>    <tr>      <td>98</td>      <td>Boston, MA</td>      <td>3</td>      <td>Wichita, KS</td>    </tr>    <tr>      <td>97</td>      <td>Fremont, CA</td>      <td>4</td>      <td>St. Louis, MO</td>    </tr>    <tr>      <td>96</td>      <td>Irvine, CA</td>      <td>5</td>      <td>Birmingham, AL</td>    </tr>  </tbody></table>'"
      ]
     },
     "execution_count": 54,
     "metadata": {},
     "output_type": "execute_result"
    }
   ],
   "source": [
    "#COSTS\n",
    "#\n",
    "df = pd.read_json(\"city_master_wallethub1.json\")\n",
    "df = df.T\n",
    "df = df.sort_values(\"costs\", ascending=False)\n",
    "\n",
    "costdf = df[['city', 'costs']]\n",
    "costdf = costdf.reset_index()\n",
    "costdf.drop(columns='index', inplace=True)\n",
    "costdf = costdf.loc[0:4]\n",
    "costdf = costdf[['costs', 'city']]\n",
    "\n",
    "df = df.sort_values(\"costs\", ascending=True)\n",
    "\n",
    "costdf1 = df[['city', 'costs']]\n",
    "costdf1 = costdf1.reset_index()\n",
    "costdf1.drop(columns='index', inplace=True)\n",
    "costdf1 = costdf1.loc[0:4]\n",
    "costdf1 = costdf1[['costs', 'city']]\n",
    "costdf[\"Lowest Ranking\"] = costdf1[\"costs\"]\n",
    "costdf[\"Lowest Ranking City\"] = costdf1[\"city\"]\n",
    "costdf = costdf.rename(columns={\"costs\": \"Highest Ranking\", \"city\": \"Highest Ranking City\"})\n",
    "costdf.to_html(index=False).replace(\"\\n\", \"\")\n"
   ]
  },
  {
   "cell_type": "code",
   "execution_count": 61,
   "metadata": {},
   "outputs": [
    {
     "data": {
      "text/plain": [
       "'<table border=\"1\" class=\"dataframe\">  <thead>    <tr style=\"text-align: right;\">      <th>Highest Ranking</th>      <th>Highest Ranking City</th>      <th>Lowest Ranking</th>      <th>Lowest Ranking City</th>    </tr>  </thead>  <tbody>    <tr>      <td>72.3</td>      <td>Plano, TX</td>      <td>29.19</td>      <td>Detroit, MI</td>    </tr>    <tr>      <td>71.86</td>      <td>Irvine, CA</td>      <td>39.48</td>      <td>Toledo, OH</td>    </tr>    <tr>      <td>71.81</td>      <td>Madison, WI</td>      <td>40.78</td>      <td>Birmingham, AL</td>    </tr>    <tr>      <td>71.17</td>      <td>Fremont, CA</td>      <td>40.81</td>      <td>Cleveland, OH</td>    </tr>    <tr>      <td>68.9</td>      <td>San Jose, CA</td>      <td>41.86</td>      <td>Newark, NJ</td>    </tr>  </tbody></table>'"
      ]
     },
     "execution_count": 61,
     "metadata": {},
     "output_type": "execute_result"
    }
   ],
   "source": [
    "#Happiness\n",
    "#\n",
    "df = pd.read_json(\"city_master_wallethub1.json\")\n",
    "df = df.T\n",
    "df = df.sort_values(\"happiness_score\", ascending=False)\n",
    "df\n",
    "costdf = df[['city', 'happiness_score']]\n",
    "costdf = costdf.reset_index()\n",
    "costdf.drop(columns='index', inplace=True)\n",
    "costdf = costdf.loc[0:4]\n",
    "costdf = costdf[['happiness_score', 'city']]\n",
    "\n",
    "df = df.sort_values(\"happiness_score\", ascending=True)\n",
    "\n",
    "costdf1 = df[['city', 'happiness_score']]\n",
    "costdf1 = costdf1.reset_index()\n",
    "costdf1.drop(columns='index', inplace=True)\n",
    "costdf1 = costdf1.loc[0:4]\n",
    "costdf1 = costdf1[['happiness_score', 'city']]\n",
    "costdf[\"Lowest Ranking\"] = costdf1[\"happiness_score\"]\n",
    "costdf[\"Lowest Ranking City\"] = costdf1[\"city\"]\n",
    "costdf = costdf.rename(columns={\"happiness_score\": \"Highest Ranking\", \"city\": \"Highest Ranking City\"})\n",
    "costdf.to_html(index=False).replace(\"\\n\", \"\")\n",
    "\n"
   ]
  },
  {
   "cell_type": "code",
   "execution_count": 60,
   "metadata": {},
   "outputs": [
    {
     "data": {
      "text/plain": [
       "'<table border=\"1\" class=\"dataframe\">  <thead>    <tr style=\"text-align: right;\">      <th>Highest Ranking</th>      <th>Highest Ranking City</th>      <th>Lowest Ranking</th>      <th>Lowest Ranking City</th>    </tr>  </thead>  <tbody>    <tr>      <td>100</td>      <td>North Las Vegas, NV</td>      <td>1</td>      <td>Irvine, CA</td>    </tr>    <tr>      <td>99</td>      <td>Detroit, MI</td>      <td>2</td>      <td>Minneapolis, MN</td>    </tr>    <tr>      <td>99</td>      <td>San Bernardino, CA</td>      <td>2</td>      <td>Plano, TX</td>    </tr>    <tr>      <td>98</td>      <td>Baton Rouge, LA</td>      <td>3</td>      <td>Virginia Beach, VA</td>    </tr>    <tr>      <td>97</td>      <td>Laredo, TX</td>      <td>5</td>      <td>Fremont, CA</td>    </tr>  </tbody></table>'"
      ]
     },
     "execution_count": 60,
     "metadata": {},
     "output_type": "execute_result"
    }
   ],
   "source": [
    "#Health\n",
    "#\n",
    "df = pd.read_json(\"city_master_wallethub1.json\")\n",
    "df = df.T\n",
    "df = df.sort_values(\"health_rank\", ascending=False)\n",
    "df\n",
    "costdf = df[['city', 'health_rank']]\n",
    "costdf = costdf.reset_index()\n",
    "costdf.drop(columns='index', inplace=True)\n",
    "costdf = costdf.loc[0:4]\n",
    "costdf = costdf[['health_rank', 'city']]\n",
    "\n",
    "df = df.sort_values(\"health_rank\", ascending=True)\n",
    "\n",
    "costdf1 = df[['city', 'health_rank']]\n",
    "costdf1 = costdf1.reset_index()\n",
    "costdf1.drop(columns='index', inplace=True)\n",
    "costdf1 = costdf1.loc[0:4]\n",
    "costdf1 = costdf1[['health_rank', 'city']]\n",
    "costdf[\"Lowest Ranking\"] = costdf1[\"health_rank\"]\n",
    "costdf[\"Lowest Ranking City\"] = costdf1[\"city\"]\n",
    "costdf = costdf.rename(columns={\"health_rank\": \"Highest Ranking\", \"city\": \"Highest Ranking City\"})\n",
    "costdf.to_html(index=False).replace(\"\\n\", \"\")"
   ]
  },
  {
   "cell_type": "code",
   "execution_count": null,
   "metadata": {},
   "outputs": [],
   "source": []
  },
  {
   "cell_type": "code",
   "execution_count": null,
   "metadata": {},
   "outputs": [],
   "source": []
  }
 ],
 "metadata": {
  "kernelspec": {
   "display_name": "Python 3",
   "language": "python",
   "name": "python3"
  },
  "language_info": {
   "codemirror_mode": {
    "name": "ipython",
    "version": 3
   },
   "file_extension": ".py",
   "mimetype": "text/x-python",
   "name": "python",
   "nbconvert_exporter": "python",
   "pygments_lexer": "ipython3",
   "version": "3.7.3"
  }
 },
 "nbformat": 4,
 "nbformat_minor": 2
}
