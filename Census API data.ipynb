{
 "cells": [
  {
   "cell_type": "code",
   "execution_count": null,
   "metadata": {},
   "outputs": [],
   "source": [
    "import pandas as pd\n",
    "import matplotlib.pyplot as plt\n",
    "import requests\n",
    "from census import Census\n",
    "from us import states"
   ]
  },
  {
   "cell_type": "code",
   "execution_count": 55,
   "metadata": {},
   "outputs": [],
   "source": [
    "c = Census(\"12c20121efd6b884bb6b1989b32e494d634e5660\")\n",
    "census_data = c.acs5.get((\"NAME\", \"B19013_001E\", \"B01003_001E\", \"B01002_001E\",\n",
    "                          \"B19301_001E\",\n",
    "                          \"B17001_002E\"), {'for': 'state'})"
   ]
  },
  {
   "cell_type": "code",
   "execution_count": 57,
   "metadata": {},
   "outputs": [
    {
     "data": {
      "text/html": [
       "<div>\n",
       "<style scoped>\n",
       "    .dataframe tbody tr th:only-of-type {\n",
       "        vertical-align: middle;\n",
       "    }\n",
       "\n",
       "    .dataframe tbody tr th {\n",
       "        vertical-align: top;\n",
       "    }\n",
       "\n",
       "    .dataframe thead th {\n",
       "        text-align: right;\n",
       "    }\n",
       "</style>\n",
       "<table border=\"1\" class=\"dataframe\">\n",
       "  <thead>\n",
       "    <tr style=\"text-align: right;\">\n",
       "      <th></th>\n",
       "      <th>Median Age</th>\n",
       "      <th>Population</th>\n",
       "      <th>Poverty Count</th>\n",
       "      <th>Household Income</th>\n",
       "      <th>Per Capita Income</th>\n",
       "      <th>Name</th>\n",
       "      <th>state</th>\n",
       "    </tr>\n",
       "  </thead>\n",
       "  <tbody>\n",
       "    <tr>\n",
       "      <th>0</th>\n",
       "      <td>40.1</td>\n",
       "      <td>3468963.0</td>\n",
       "      <td>1543220.0</td>\n",
       "      <td>19775.0</td>\n",
       "      <td>12081.0</td>\n",
       "      <td>Puerto Rico</td>\n",
       "      <td>72</td>\n",
       "    </tr>\n",
       "    <tr>\n",
       "      <th>1</th>\n",
       "      <td>38.7</td>\n",
       "      <td>4850771.0</td>\n",
       "      <td>849699.0</td>\n",
       "      <td>46472.0</td>\n",
       "      <td>25746.0</td>\n",
       "      <td>Alabama</td>\n",
       "      <td>01</td>\n",
       "    </tr>\n",
       "    <tr>\n",
       "      <th>2</th>\n",
       "      <td>33.9</td>\n",
       "      <td>738565.0</td>\n",
       "      <td>73380.0</td>\n",
       "      <td>76114.0</td>\n",
       "      <td>35065.0</td>\n",
       "      <td>Alaska</td>\n",
       "      <td>02</td>\n",
       "    </tr>\n",
       "    <tr>\n",
       "      <th>3</th>\n",
       "      <td>37.2</td>\n",
       "      <td>6809946.0</td>\n",
       "      <td>1128046.0</td>\n",
       "      <td>53510.0</td>\n",
       "      <td>27964.0</td>\n",
       "      <td>Arizona</td>\n",
       "      <td>04</td>\n",
       "    </tr>\n",
       "    <tr>\n",
       "      <th>4</th>\n",
       "      <td>37.9</td>\n",
       "      <td>2977944.0</td>\n",
       "      <td>524211.0</td>\n",
       "      <td>43813.0</td>\n",
       "      <td>24426.0</td>\n",
       "      <td>Arkansas</td>\n",
       "      <td>05</td>\n",
       "    </tr>\n",
       "  </tbody>\n",
       "</table>\n",
       "</div>"
      ],
      "text/plain": [
       "   Median Age  Population  Poverty Count  Household Income  Per Capita Income  \\\n",
       "0        40.1   3468963.0      1543220.0           19775.0            12081.0   \n",
       "1        38.7   4850771.0       849699.0           46472.0            25746.0   \n",
       "2        33.9    738565.0        73380.0           76114.0            35065.0   \n",
       "3        37.2   6809946.0      1128046.0           53510.0            27964.0   \n",
       "4        37.9   2977944.0       524211.0           43813.0            24426.0   \n",
       "\n",
       "          Name state  \n",
       "0  Puerto Rico    72  \n",
       "1      Alabama    01  \n",
       "2       Alaska    02  \n",
       "3      Arizona    04  \n",
       "4     Arkansas    05  "
      ]
     },
     "execution_count": 57,
     "metadata": {},
     "output_type": "execute_result"
    }
   ],
   "source": [
    "census_pd = pd.DataFrame(census_data)\n",
    "census_pd = census_pd.rename(columns={\"B01003_001E\": \"Population\",\n",
    "                                      \"B01002_001E\": \"Median Age\",\n",
    "                                      \"B19013_001E\": \"Household Income\",\n",
    "                                      \"B19301_001E\": \"Per Capita Income\",\n",
    "                                      \"B17001_002E\": \"Poverty Count\",\n",
    "                                      \"NAME\": \"Name\", \"zip code tabulation area\": \"Zipcode\"})\n",
    "census_pd.head()"
   ]
  },
  {
   "cell_type": "code",
   "execution_count": 58,
   "metadata": {},
   "outputs": [
    {
     "data": {
      "text/plain": [
       "<matplotlib.collections.PathCollection at 0x26f0f37d748>"
      ]
     },
     "execution_count": 58,
     "metadata": {},
     "output_type": "execute_result"
    },
    {
     "data": {
      "image/png": "[encoded data removed]",
      "text/plain": [
       "<Figure size 1152x576 with 1 Axes>"
      ]
     },
     "metadata": {
      "needs_background": "light"
     },
     "output_type": "display_data"
    }
   ],
   "source": [
    "census_pd = census_pd.loc[census_pd['Median Age'] > 0]\n",
    "census_pd = census_pd.loc[census_pd['Population'] > 0]\n",
    "census_pd = census_pd.loc[census_pd['Poverty Count'] > 0]\n",
    "census_pd = census_pd.loc[census_pd['Household Income'] > 0]\n",
    "census_pd = census_pd.loc[census_pd['Per Capita Income'] > 0]\n",
    "census_pd['state'] = census_pd['state'].astype(float)\n",
    "plt.figure(figsize=(16,8))\n",
    "plt.scatter(census_pd['state'], census_pd['Household Income'], s=census_pd['Household Income']/500, c=\"yellow\", edgecolors=\"black\")"
   ]
  },
  {
   "cell_type": "code",
   "execution_count": null,
   "metadata": {},
   "outputs": [],
   "source": []
  },
  {
   "cell_type": "code",
   "execution_count": null,
   "metadata": {},
   "outputs": [],
   "source": []
  },
  {
   "cell_type": "code",
   "execution_count": null,
   "metadata": {},
   "outputs": [],
   "source": []
  },
  {
   "cell_type": "code",
   "execution_count": null,
   "metadata": {},
   "outputs": [],
   "source": []
  },
  {
   "cell_type": "code",
   "execution_count": null,
   "metadata": {},
   "outputs": [],
   "source": []
  }
 ],
 "metadata": {
  "kernelspec": {
   "display_name": "Python 3",
   "language": "python",
   "name": "python3"
  },
  "language_info": {
   "codemirror_mode": {
    "name": "ipython",
    "version": 3
   },
   "file_extension": ".py",
   "mimetype": "text/x-python",
   "name": "python",
   "nbconvert_exporter": "python",
   "pygments_lexer": "ipython3",
   "version": "3.7.3"
  }
 },
 "nbformat": 4,
 "nbformat_minor": 2
}
